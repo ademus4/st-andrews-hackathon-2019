{
 "cells": [
  {
   "cell_type": "code",
   "execution_count": 1,
   "metadata": {},
   "outputs": [],
   "source": [
    "import numpy as np\n",
    "import pandas as pd\n",
    "import geopandas as gpd\n",
    "from police_api import PoliceAPI\n",
    "from matplotlib import pyplot as plt\n",
    "%matplotlib inline\n",
    "plt.rcParams['figure.figsize'] = (20, 10)"
   ]
  },
  {
   "cell_type": "code",
   "execution_count": 9,
   "metadata": {},
   "outputs": [
    {
     "name": "stdout",
     "output_type": "stream",
     "text": [
      "6603858\n",
      "5041108\n",
      "504111\n"
     ]
    },
    {
     "data": {
      "text/html": [
       "<div>\n",
       "<style scoped>\n",
       "    .dataframe tbody tr th:only-of-type {\n",
       "        vertical-align: middle;\n",
       "    }\n",
       "\n",
       "    .dataframe tbody tr th {\n",
       "        vertical-align: top;\n",
       "    }\n",
       "\n",
       "    .dataframe thead th {\n",
       "        text-align: right;\n",
       "    }\n",
       "</style>\n",
       "<table border=\"1\" class=\"dataframe\">\n",
       "  <thead>\n",
       "    <tr style=\"text-align: right;\">\n",
       "      <th></th>\n",
       "      <th>Crime ID</th>\n",
       "      <th>Longitude</th>\n",
       "      <th>Latitude</th>\n",
       "      <th>Location</th>\n",
       "      <th>LSOA code</th>\n",
       "      <th>LSOA name</th>\n",
       "      <th>Crime type</th>\n",
       "      <th>Last outcome category</th>\n",
       "      <th>datetime</th>\n",
       "      <th>force</th>\n",
       "    </tr>\n",
       "  </thead>\n",
       "  <tbody>\n",
       "    <tr>\n",
       "      <th>0</th>\n",
       "      <td>f6f9ddb405acc0d8174c8dde5ba502b796ee8c9d5762c9...</td>\n",
       "      <td>-2.575411</td>\n",
       "      <td>54.991255</td>\n",
       "      <td>On or near B6318</td>\n",
       "      <td>E01019225</td>\n",
       "      <td>Carlisle 002D</td>\n",
       "      <td>Public order</td>\n",
       "      <td>Investigation complete; no suspect identified</td>\n",
       "      <td>2018-07-01</td>\n",
       "      <td>northumbria</td>\n",
       "    </tr>\n",
       "    <tr>\n",
       "      <th>14</th>\n",
       "      <td>c723815ce62034a4fbc4c6c401f5bf8c3927f6f1c71075...</td>\n",
       "      <td>-1.747655</td>\n",
       "      <td>54.966718</td>\n",
       "      <td>On or near Stargate Lane</td>\n",
       "      <td>E01008248</td>\n",
       "      <td>Gateshead 001C</td>\n",
       "      <td>Violence and sexual offences</td>\n",
       "      <td>Investigation complete; no suspect identified</td>\n",
       "      <td>2018-07-01</td>\n",
       "      <td>northumbria</td>\n",
       "    </tr>\n",
       "    <tr>\n",
       "      <th>28</th>\n",
       "      <td>293eba9dc35e4c9e270d1effabf7686e82c6b88388e829...</td>\n",
       "      <td>-1.762749</td>\n",
       "      <td>54.976409</td>\n",
       "      <td>On or near Cross Drive</td>\n",
       "      <td>E01008250</td>\n",
       "      <td>Gateshead 001E</td>\n",
       "      <td>Other theft</td>\n",
       "      <td>Investigation complete; no suspect identified</td>\n",
       "      <td>2018-07-01</td>\n",
       "      <td>northumbria</td>\n",
       "    </tr>\n",
       "    <tr>\n",
       "      <th>39</th>\n",
       "      <td>cf2b2a4d8f75f059cbbf84f6f4ce7fe09194ac06602688...</td>\n",
       "      <td>-1.764579</td>\n",
       "      <td>54.957371</td>\n",
       "      <td>On or near Alma Terrace</td>\n",
       "      <td>E01008195</td>\n",
       "      <td>Gateshead 002A</td>\n",
       "      <td>Violence and sexual offences</td>\n",
       "      <td>Investigation complete; no suspect identified</td>\n",
       "      <td>2018-07-01</td>\n",
       "      <td>northumbria</td>\n",
       "    </tr>\n",
       "    <tr>\n",
       "      <th>55</th>\n",
       "      <td>301eb4918c4119326546ad41b8494fb3d292703d77d321...</td>\n",
       "      <td>-1.783590</td>\n",
       "      <td>54.964838</td>\n",
       "      <td>On or near Shaftoe Close</td>\n",
       "      <td>E01008199</td>\n",
       "      <td>Gateshead 002D</td>\n",
       "      <td>Violence and sexual offences</td>\n",
       "      <td>Investigation complete; no suspect identified</td>\n",
       "      <td>2018-07-01</td>\n",
       "      <td>northumbria</td>\n",
       "    </tr>\n",
       "  </tbody>\n",
       "</table>\n",
       "</div>"
      ],
      "text/plain": [
       "                                             Crime ID  Longitude   Latitude  \\\n",
       "0   f6f9ddb405acc0d8174c8dde5ba502b796ee8c9d5762c9...  -2.575411  54.991255   \n",
       "14  c723815ce62034a4fbc4c6c401f5bf8c3927f6f1c71075...  -1.747655  54.966718   \n",
       "28  293eba9dc35e4c9e270d1effabf7686e82c6b88388e829...  -1.762749  54.976409   \n",
       "39  cf2b2a4d8f75f059cbbf84f6f4ce7fe09194ac06602688...  -1.764579  54.957371   \n",
       "55  301eb4918c4119326546ad41b8494fb3d292703d77d321...  -1.783590  54.964838   \n",
       "\n",
       "                    Location  LSOA code       LSOA name  \\\n",
       "0           On or near B6318  E01019225   Carlisle 002D   \n",
       "14  On or near Stargate Lane  E01008248  Gateshead 001C   \n",
       "28    On or near Cross Drive  E01008250  Gateshead 001E   \n",
       "39   On or near Alma Terrace  E01008195  Gateshead 002A   \n",
       "55  On or near Shaftoe Close  E01008199  Gateshead 002D   \n",
       "\n",
       "                      Crime type  \\\n",
       "0                   Public order   \n",
       "14  Violence and sexual offences   \n",
       "28                   Other theft   \n",
       "39  Violence and sexual offences   \n",
       "55  Violence and sexual offences   \n",
       "\n",
       "                            Last outcome category    datetime        force  \n",
       "0   Investigation complete; no suspect identified  2018-07-01  northumbria  \n",
       "14  Investigation complete; no suspect identified  2018-07-01  northumbria  \n",
       "28  Investigation complete; no suspect identified  2018-07-01  northumbria  \n",
       "39  Investigation complete; no suspect identified  2018-07-01  northumbria  \n",
       "55  Investigation complete; no suspect identified  2018-07-01  northumbria  "
      ]
     },
     "execution_count": 9,
     "metadata": {},
     "output_type": "execute_result"
    }
   ],
   "source": [
    "# Load street crime data\n",
    "df_street = pd.read_csv('crime_street_test.csv',index_col=0)\n",
    "print(len(df_street))\n",
    "df_street.dropna(subset=['Last outcome category'],inplace=True)\n",
    "print(len(df_street))\n",
    "df_street = df_street[::10] # Memory requirements\n",
    "print(len(df_street))\n",
    "df_street.head()"
   ]
  },
  {
   "cell_type": "code",
   "execution_count": 10,
   "metadata": {},
   "outputs": [],
   "source": [
    "df_street.drop(columns=['Crime ID','LSOA code','LSOA name','Location','force'],inplace=True)\n"
   ]
  },
  {
   "cell_type": "code",
   "execution_count": 11,
   "metadata": {},
   "outputs": [],
   "source": [
    "from shapely.geometry import Point"
   ]
  },
  {
   "cell_type": "code",
   "execution_count": 12,
   "metadata": {},
   "outputs": [
    {
     "name": "stdout",
     "output_type": "stream",
     "text": [
      "Awaiting resolution\n"
     ]
    }
   ],
   "source": [
    "resolved = ['Offender given community sentence','Offender given a caution','Offender sent to prison',\n",
    "             'Local resolution','Defendant found not guilty','Offender given suspended prison sentence',\n",
    "            'Offender given conditional discharge','Offender given a drugs possession warning','Court result unavailable',\n",
    "            'Offender given penalty notice','Offender otherwise dealt with','Offender fined','Suspect charged as part of another case',\n",
    "            'Offender ordered to pay compensation','Offender given absolute discharge','Defendant sent to Crown Court','Offender deprived of property']\n",
    "notresolved = ['Unable to prosecute suspect','Investigation complete; no suspect identified','Court case unable to proceed',\n",
    "               'Formal action is not in the public interest']\n",
    "waiting=['Under investigation','Awaiting court outcome','Status update unavailable','Action to be taken by another organisation']\n",
    "\n",
    "def outcome(c):\n",
    "  if c in waiting:\n",
    "    return 'Awaiting resolution'\n",
    "  elif c in notresolved:\n",
    "    return 'No resolution'\n",
    "  elif c in resolved:\n",
    "    return 'Resolution'\n",
    "print(outcome('Under investigation'))\n",
    "\n",
    "df_street['Type of outcome'] = df_street['Last outcome category'].apply(outcome)\n",
    "\n",
    "prosecuted = ['Offender given suspended prison sentence','Awaiting court outcome','Defendant found not guilty',\n",
    "              'Offender sent to prison','Court result unavailable','Defendant sent to Crown Court','Offender given conditional discharge']\n",
    "\n",
    "def prosecution(c):\n",
    "    if c in prosecuted:\n",
    "        return 'Prosecution'\n",
    "    else:\n",
    "        return'No prosecution/Unknown'\n",
    "df_street['Prosecution'] = df_street['Last outcome category'].apply(prosecution)\n"
   ]
  },
  {
   "cell_type": "code",
   "execution_count": 18,
   "metadata": {},
   "outputs": [],
   "source": [
    "def plot_scatterplot_forces(ax, gdf_map, df1,df2,df3):\n",
    "    \"\"\"Plots a scaterplot of a dataframe with columns Latitude\n",
    "    and Longitude on top of map of UK police forces.\"\"\"\n",
    "    \n",
    "    # Convert df to geodataframe\n",
    "    df1['Coordinates'] = list(zip(df1.Longitude, df1.Latitude))\n",
    "    df1['Coordinates'] = df1['Coordinates'].apply(Point)\n",
    "    gdf1 = gpd.GeoDataFrame(df1, geometry='Coordinates')\n",
    "    gdf1.crs = {'init' :'epsg:4326'} \n",
    "    df2['Coordinates'] = list(zip(df2.Longitude, df2.Latitude))\n",
    "    df2['Coordinates'] = df2['Coordinates'].apply(Point)\n",
    "    gdf2 = gpd.GeoDataFrame(df2, geometry='Coordinates')\n",
    "    gdf2.crs = {'init' :'epsg:4326'} \n",
    "    df3['Coordinates'] = list(zip(df3.Longitude, df3.Latitude))\n",
    "    df3['Coordinates'] = df3['Coordinates'].apply(Point)\n",
    "    gdf3 = gpd.GeoDataFrame(df3, geometry='Coordinates')\n",
    "    gdf3.crs = {'init' :'epsg:4326'} \n",
    "\n",
    "\n",
    "    # Project both geodataframes to Mercator projection\n",
    "    gdf_map = gdf_map.to_crs({'init': 'epsg:3395'}) \n",
    "    gdf1 = gdf1.to_crs({'init': 'epsg:3395'})\n",
    "    gdf2 = gdf2.to_crs({'init': 'epsg:3395'})\n",
    "    gdf3 = gdf3.to_crs({'init': 'epsg:3395'})\n",
    "\n",
    "    # Plot scatterplot\n",
    "    gdf_map.plot(color='C0', ax=ax)\n",
    "    gdf1.plot(ax=ax, color='C1', markersize=0.1, alpha=0.1)\n",
    "    gdf2.plot(ax=ax, color='C2', markersize=0.1, alpha=0.1)\n",
    "    gdf3.plot(ax=ax, color='C3', markersize=0.1, alpha=0.1)\n",
    "\n",
    "\n",
    "# Load geojson file of entire UK\n",
    "#gdf_uk = gpd.read_file(\"uk.geojson\")"
   ]
  },
  {
   "cell_type": "markdown",
   "metadata": {},
   "source": [
    "## Example plot"
   ]
  },
  {
   "cell_type": "code",
   "execution_count": null,
   "metadata": {},
   "outputs": [],
   "source": [
    "# Plot\n",
    "fig, ax = plt.subplots(figsize=(20, 20))\n",
    "plot_scatterplot_forces(ax, gdf_uk, df_street[df_street['Type of outcome']=='Awaiting resolution'][['Longitude', 'Latitude']],\n",
    "                        df_street[df_street['Type of outcome']=='Resolution'][['Longitude', 'Latitude']],\n",
    "                        df_street[df_street['Type of outcome']=='No resolution'][['Longitude', 'Latitude']])\n",
    "plt.axis('off')"
   ]
  },
  {
   "cell_type": "code",
   "execution_count": null,
   "metadata": {},
   "outputs": [],
   "source": []
  }
 ],
 "metadata": {
  "kernelspec": {
   "display_name": "Python 3",
   "language": "python",
   "name": "python3"
  },
  "language_info": {
   "codemirror_mode": {
    "name": "ipython",
    "version": 3
   },
   "file_extension": ".py",
   "mimetype": "text/x-python",
   "name": "python",
   "nbconvert_exporter": "python",
   "pygments_lexer": "ipython3",
   "version": "3.6.7"
  }
 },
 "nbformat": 4,
 "nbformat_minor": 2
}
