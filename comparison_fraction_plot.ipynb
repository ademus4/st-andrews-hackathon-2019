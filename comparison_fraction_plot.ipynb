{
 "cells": [
  {
   "cell_type": "code",
   "execution_count": 74,
   "metadata": {},
   "outputs": [],
   "source": [
    "import pandas as pd\n",
    "import numpy as np\n",
    "import matplotlib.pyplot as plt\n",
    "import matplotlib as mpl\n",
    "\n",
    "fields = ['LSOA code','Crime type','datetime','force']\n",
    "df_crimes = pd.read_csv('../crime_street_test.csv', usecols=fields)"
   ]
  },
  {
   "cell_type": "code",
   "execution_count": 2,
   "metadata": {},
   "outputs": [
    {
     "data": {
      "text/html": [
       "<div>\n",
       "<style scoped>\n",
       "    .dataframe tbody tr th:only-of-type {\n",
       "        vertical-align: middle;\n",
       "    }\n",
       "\n",
       "    .dataframe tbody tr th {\n",
       "        vertical-align: top;\n",
       "    }\n",
       "\n",
       "    .dataframe thead th {\n",
       "        text-align: right;\n",
       "    }\n",
       "</style>\n",
       "<table border=\"1\" class=\"dataframe\">\n",
       "  <thead>\n",
       "    <tr style=\"text-align: right;\">\n",
       "      <th></th>\n",
       "      <th>LSOA code</th>\n",
       "      <th>Crime type</th>\n",
       "      <th>datetime</th>\n",
       "      <th>force</th>\n",
       "      <th>Urban</th>\n",
       "    </tr>\n",
       "  </thead>\n",
       "  <tbody>\n",
       "    <tr>\n",
       "      <th>0</th>\n",
       "      <td>E01020634</td>\n",
       "      <td>Shoplifting</td>\n",
       "      <td>2018-10-01</td>\n",
       "      <td>durham</td>\n",
       "      <td>0</td>\n",
       "    </tr>\n",
       "    <tr>\n",
       "      <th>1</th>\n",
       "      <td>E01020634</td>\n",
       "      <td>Shoplifting</td>\n",
       "      <td>2018-10-01</td>\n",
       "      <td>durham</td>\n",
       "      <td>0</td>\n",
       "    </tr>\n",
       "    <tr>\n",
       "      <th>2</th>\n",
       "      <td>E01020634</td>\n",
       "      <td>Shoplifting</td>\n",
       "      <td>2018-10-01</td>\n",
       "      <td>durham</td>\n",
       "      <td>0</td>\n",
       "    </tr>\n",
       "    <tr>\n",
       "      <th>3</th>\n",
       "      <td>E01020634</td>\n",
       "      <td>Shoplifting</td>\n",
       "      <td>2018-10-01</td>\n",
       "      <td>durham</td>\n",
       "      <td>0</td>\n",
       "    </tr>\n",
       "    <tr>\n",
       "      <th>4</th>\n",
       "      <td>E01020634</td>\n",
       "      <td>Violence and sexual offences</td>\n",
       "      <td>2018-10-01</td>\n",
       "      <td>durham</td>\n",
       "      <td>0</td>\n",
       "    </tr>\n",
       "  </tbody>\n",
       "</table>\n",
       "</div>"
      ],
      "text/plain": [
       "   LSOA code                    Crime type    datetime   force   Urban \n",
       "0  E01020634                   Shoplifting  2018-10-01  durham        0\n",
       "1  E01020634                   Shoplifting  2018-10-01  durham        0\n",
       "2  E01020634                   Shoplifting  2018-10-01  durham        0\n",
       "3  E01020634                   Shoplifting  2018-10-01  durham        0\n",
       "4  E01020634  Violence and sexual offences  2018-10-01  durham        0"
      ]
     },
     "execution_count": 2,
     "metadata": {},
     "output_type": "execute_result"
    }
   ],
   "source": [
    "df_urban = pd.read_csv('Rural_Urban_conv.csv')\n",
    "df_crimes=df_crimes.merge(df_urban, how='inner', on='LSOA code')\n",
    "df_crimes.head()"
   ]
  },
  {
   "cell_type": "code",
   "execution_count": 6,
   "metadata": {},
   "outputs": [
    {
     "data": {
      "text/plain": [
       "Index(['LSOA code', 'Crime type', 'datetime', 'force', ' Urban '], dtype='object')"
      ]
     },
     "execution_count": 6,
     "metadata": {},
     "output_type": "execute_result"
    }
   ],
   "source": [
    "df_crimes.columns"
   ]
  },
  {
   "cell_type": "code",
   "execution_count": 36,
   "metadata": {},
   "outputs": [
    {
     "data": {
      "text/html": [
       "<div>\n",
       "<style scoped>\n",
       "    .dataframe tbody tr th:only-of-type {\n",
       "        vertical-align: middle;\n",
       "    }\n",
       "\n",
       "    .dataframe tbody tr th {\n",
       "        vertical-align: top;\n",
       "    }\n",
       "\n",
       "    .dataframe thead th {\n",
       "        text-align: right;\n",
       "    }\n",
       "</style>\n",
       "<table border=\"1\" class=\"dataframe\">\n",
       "  <thead>\n",
       "    <tr style=\"text-align: right;\">\n",
       "      <th></th>\n",
       "      <th>LSOA code</th>\n",
       "      <th>Crime type</th>\n",
       "      <th>datetime</th>\n",
       "      <th>force</th>\n",
       "      <th>Urban</th>\n",
       "    </tr>\n",
       "  </thead>\n",
       "  <tbody>\n",
       "    <tr>\n",
       "      <th>254</th>\n",
       "      <td>E01020654</td>\n",
       "      <td>Anti-social behaviour</td>\n",
       "      <td>2018-10-01</td>\n",
       "      <td>durham</td>\n",
       "      <td>1</td>\n",
       "    </tr>\n",
       "    <tr>\n",
       "      <th>255</th>\n",
       "      <td>E01020654</td>\n",
       "      <td>Anti-social behaviour</td>\n",
       "      <td>2018-10-01</td>\n",
       "      <td>durham</td>\n",
       "      <td>1</td>\n",
       "    </tr>\n",
       "    <tr>\n",
       "      <th>256</th>\n",
       "      <td>E01020654</td>\n",
       "      <td>Burglary</td>\n",
       "      <td>2018-10-01</td>\n",
       "      <td>durham</td>\n",
       "      <td>1</td>\n",
       "    </tr>\n",
       "    <tr>\n",
       "      <th>257</th>\n",
       "      <td>E01020654</td>\n",
       "      <td>Criminal damage and arson</td>\n",
       "      <td>2018-10-01</td>\n",
       "      <td>durham</td>\n",
       "      <td>1</td>\n",
       "    </tr>\n",
       "    <tr>\n",
       "      <th>258</th>\n",
       "      <td>E01020654</td>\n",
       "      <td>Criminal damage and arson</td>\n",
       "      <td>2018-10-01</td>\n",
       "      <td>durham</td>\n",
       "      <td>1</td>\n",
       "    </tr>\n",
       "  </tbody>\n",
       "</table>\n",
       "</div>"
      ],
      "text/plain": [
       "     LSOA code                 Crime type    datetime   force   Urban \n",
       "254  E01020654      Anti-social behaviour  2018-10-01  durham        1\n",
       "255  E01020654      Anti-social behaviour  2018-10-01  durham        1\n",
       "256  E01020654                   Burglary  2018-10-01  durham        1\n",
       "257  E01020654  Criminal damage and arson  2018-10-01  durham        1\n",
       "258  E01020654  Criminal damage and arson  2018-10-01  durham        1"
      ]
     },
     "execution_count": 36,
     "metadata": {},
     "output_type": "execute_result"
    }
   ],
   "source": [
    "df_crimes_urban = df_crimes.loc[df_crimes[' Urban '] == 1]\n",
    "df_crimes_rural = df_crimes.loc[df_crimes[' Urban '] == 0]\n",
    "df_crimes_urban.head()"
   ]
  },
  {
   "cell_type": "code",
   "execution_count": 37,
   "metadata": {},
   "outputs": [],
   "source": [
    "df_types_urban = df_crimes_urban.groupby('Crime type').count()\n",
    "df_types_rural = df_crimes_rural.groupby('Crime type').count()\n"
   ]
  },
  {
   "cell_type": "code",
   "execution_count": 38,
   "metadata": {},
   "outputs": [
    {
     "data": {
      "text/html": [
       "<div>\n",
       "<style scoped>\n",
       "    .dataframe tbody tr th:only-of-type {\n",
       "        vertical-align: middle;\n",
       "    }\n",
       "\n",
       "    .dataframe tbody tr th {\n",
       "        vertical-align: top;\n",
       "    }\n",
       "\n",
       "    .dataframe thead th {\n",
       "        text-align: right;\n",
       "    }\n",
       "</style>\n",
       "<table border=\"1\" class=\"dataframe\">\n",
       "  <thead>\n",
       "    <tr style=\"text-align: right;\">\n",
       "      <th></th>\n",
       "      <th>LSOA code</th>\n",
       "    </tr>\n",
       "    <tr>\n",
       "      <th>Crime type</th>\n",
       "      <th></th>\n",
       "    </tr>\n",
       "  </thead>\n",
       "  <tbody>\n",
       "    <tr>\n",
       "      <th>Anti-social behaviour</th>\n",
       "      <td>1216755</td>\n",
       "    </tr>\n",
       "    <tr>\n",
       "      <th>Bicycle theft</th>\n",
       "      <td>89910</td>\n",
       "    </tr>\n",
       "    <tr>\n",
       "      <th>Burglary</th>\n",
       "      <td>363217</td>\n",
       "    </tr>\n",
       "    <tr>\n",
       "      <th>Criminal damage and arson</th>\n",
       "      <td>490686</td>\n",
       "    </tr>\n",
       "    <tr>\n",
       "      <th>Drugs</th>\n",
       "      <td>127030</td>\n",
       "    </tr>\n",
       "  </tbody>\n",
       "</table>\n",
       "</div>"
      ],
      "text/plain": [
       "                           LSOA code\n",
       "Crime type                          \n",
       "Anti-social behaviour        1216755\n",
       "Bicycle theft                  89910\n",
       "Burglary                      363217\n",
       "Criminal damage and arson     490686\n",
       "Drugs                         127030"
      ]
     },
     "execution_count": 38,
     "metadata": {},
     "output_type": "execute_result"
    }
   ],
   "source": [
    "df_types_urban.drop(columns='datetime', axis=1, inplace=True)\n",
    "df_types_urban.drop(columns='force', axis=1, inplace=True)\n",
    "df_types_urban.drop(columns=' Urban ', axis=1, inplace=True)\n",
    "df_types_rural.drop(columns='datetime', axis=1, inplace=True)\n",
    "df_types_rural.drop(columns='force', axis=1, inplace=True)\n",
    "df_types_rural.drop(columns=' Urban ', axis=1, inplace=True)\n",
    "df_types_rural.head()\n",
    "df_types_urban.head()"
   ]
  },
  {
   "cell_type": "code",
   "execution_count": 39,
   "metadata": {},
   "outputs": [],
   "source": [
    "df_types_all = df_types_urban.merge(df_types_rural, on='Crime type')"
   ]
  },
  {
   "cell_type": "code",
   "execution_count": 40,
   "metadata": {},
   "outputs": [
    {
     "data": {
      "text/html": [
       "<div>\n",
       "<style scoped>\n",
       "    .dataframe tbody tr th:only-of-type {\n",
       "        vertical-align: middle;\n",
       "    }\n",
       "\n",
       "    .dataframe tbody tr th {\n",
       "        vertical-align: top;\n",
       "    }\n",
       "\n",
       "    .dataframe thead th {\n",
       "        text-align: right;\n",
       "    }\n",
       "</style>\n",
       "<table border=\"1\" class=\"dataframe\">\n",
       "  <thead>\n",
       "    <tr style=\"text-align: right;\">\n",
       "      <th></th>\n",
       "      <th>LSOA code_x</th>\n",
       "      <th>LSOA code_y</th>\n",
       "    </tr>\n",
       "    <tr>\n",
       "      <th>Crime type</th>\n",
       "      <th></th>\n",
       "      <th></th>\n",
       "    </tr>\n",
       "  </thead>\n",
       "  <tbody>\n",
       "    <tr>\n",
       "      <th>Anti-social behaviour</th>\n",
       "      <td>1216755</td>\n",
       "      <td>130806</td>\n",
       "    </tr>\n",
       "    <tr>\n",
       "      <th>Bicycle theft</th>\n",
       "      <td>89910</td>\n",
       "      <td>3121</td>\n",
       "    </tr>\n",
       "    <tr>\n",
       "      <th>Burglary</th>\n",
       "      <td>363217</td>\n",
       "      <td>51661</td>\n",
       "    </tr>\n",
       "    <tr>\n",
       "      <th>Criminal damage and arson</th>\n",
       "      <td>490686</td>\n",
       "      <td>61592</td>\n",
       "    </tr>\n",
       "    <tr>\n",
       "      <th>Drugs</th>\n",
       "      <td>127030</td>\n",
       "      <td>9918</td>\n",
       "    </tr>\n",
       "  </tbody>\n",
       "</table>\n",
       "</div>"
      ],
      "text/plain": [
       "                           LSOA code_x  LSOA code_y\n",
       "Crime type                                         \n",
       "Anti-social behaviour          1216755       130806\n",
       "Bicycle theft                    89910         3121\n",
       "Burglary                        363217        51661\n",
       "Criminal damage and arson       490686        61592\n",
       "Drugs                           127030         9918"
      ]
     },
     "execution_count": 40,
     "metadata": {},
     "output_type": "execute_result"
    }
   ],
   "source": [
    "df_types_all.head()"
   ]
  },
  {
   "cell_type": "code",
   "execution_count": 41,
   "metadata": {},
   "outputs": [
    {
     "data": {
      "text/plain": [
       "<matplotlib.axes._subplots.AxesSubplot at 0x7b43b01595f8>"
      ]
     },
     "execution_count": 41,
     "metadata": {},
     "output_type": "execute_result"
    },
    {
     "data": {
      "image/png": "[encoded data removed]",
      "text/plain": [
       "<Figure size 432x288 with 1 Axes>"
      ]
     },
     "metadata": {
      "needs_background": "light"
     },
     "output_type": "display_data"
    }
   ],
   "source": [
    "u_sum = df_types_all['LSOA code_x'].sum()\n",
    "r_sum = df_types_all['LSOA code_y'].sum()\n",
    "df_types_all['LSOA code_x'] = df_types_all['LSOA code_x'].apply(lambda x: x/u_sum)\n",
    "df_types_all['LSOA code_y'] = df_types_all['LSOA code_y'].apply(lambda x: x/r_sum) \n"
   ]
  },
  {
   "cell_type": "code",
   "execution_count": 82,
   "metadata": {},
   "outputs": [
    {
     "data": {
      "text/plain": [
       "Text(0,0.5,'Fraction of crimes')"
      ]
     },
     "execution_count": 82,
     "metadata": {},
     "output_type": "execute_result"
    },
    {
     "data": {
      "image/png": "[encoded data removed]",
      "text/plain": [
       "<Figure size 1296x648 with 1 Axes>"
      ]
     },
     "metadata": {
      "needs_background": "light"
     },
     "output_type": "display_data"
    }
   ],
   "source": [
    "#df_types_all.rename(columns={'LSOA code_x':'Urban'}, inplace=True)\n",
    "#df_types_all.rename(columns={'LSOA code_y':'Rural'}, inplace=True)\n",
    "    \n",
    "mpl.rcParams['xtick.labelsize'] = 16\n",
    "mpl.rcParams['ytick.labelsize'] = 16\n",
    "mpl.rcParams['axes.labelsize'] = 16\n",
    "mpl.rcParams['legend.fontsize'] = 20\n",
    "\n",
    "\n",
    "fig = plt.figure(figsize=(18, 9))\n",
    "ax = fig.add_subplot(111)\n",
    "df_types_all.plot.bar(ax=ax)\n",
    "ax.set_ylabel('Fraction of crimes')\n"
   ]
  },
  {
   "cell_type": "code",
   "execution_count": 72,
   "metadata": {},
   "outputs": [],
   "source": [
    "fig.savefig('Urban_Rural')"
   ]
  },
  {
   "cell_type": "code",
   "execution_count": 62,
   "metadata": {},
   "outputs": [
    {
     "name": "stdout",
     "output_type": "stream",
     "text": [
      "total crimes = 6311117\n"
     ]
    }
   ],
   "source": [
    "print('total crimes = ' + str(u_sum+r_sum))"
   ]
  },
  {
   "cell_type": "code",
   "execution_count": 63,
   "metadata": {},
   "outputs": [
    {
     "data": {
      "text/plain": [
       "5707162"
      ]
     },
     "execution_count": 63,
     "metadata": {},
     "output_type": "execute_result"
    }
   ],
   "source": [
    "u_sum"
   ]
  },
  {
   "cell_type": "code",
   "execution_count": 64,
   "metadata": {},
   "outputs": [
    {
     "data": {
      "text/plain": [
       "603955"
      ]
     },
     "execution_count": 64,
     "metadata": {},
     "output_type": "execute_result"
    }
   ],
   "source": [
    "r_sum"
   ]
  },
  {
   "cell_type": "code",
   "execution_count": null,
   "metadata": {},
   "outputs": [],
   "source": []
  }
 ],
 "metadata": {
  "kernelspec": {
   "display_name": "Python 3",
   "language": "python",
   "name": "python3"
  },
  "language_info": {
   "codemirror_mode": {
    "name": "ipython",
    "version": 3
   },
   "file_extension": ".py",
   "mimetype": "text/x-python",
   "name": "python",
   "nbconvert_exporter": "python",
   "pygments_lexer": "ipython3",
   "version": "3.7.2"
  }
 },
 "nbformat": 4,
 "nbformat_minor": 2
}
