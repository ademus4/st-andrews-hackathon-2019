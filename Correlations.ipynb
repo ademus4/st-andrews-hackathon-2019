{
 "cells": [
  {
   "cell_type": "code",
   "execution_count": 1,
   "metadata": {},
   "outputs": [],
   "source": [
    "import numpy as np\n",
    "import pandas as pd\n",
    "#from police_api import PoliceAPI\n",
    "#import glob,os\n",
    "#import altair"
   ]
  },
  {
   "cell_type": "markdown",
   "metadata": {},
   "source": [
    "Reading csv"
   ]
  },
  {
   "cell_type": "code",
   "execution_count": 2,
   "metadata": {},
   "outputs": [],
   "source": [
    "df_crimes = pd.read_csv('crime_outcomes_all.csv')"
   ]
  },
  {
   "cell_type": "code",
   "execution_count": 3,
   "metadata": {},
   "outputs": [],
   "source": [
    "df_stop_search = pd.read_csv('crime_stopnsearch_all.csv')"
   ]
  },
  {
   "cell_type": "code",
   "execution_count": 4,
   "metadata": {},
   "outputs": [],
   "source": [
    "df_street = pd.read_csv('crime_street_all.csv')"
   ]
  },
  {
   "cell_type": "markdown",
   "metadata": {},
   "source": [
    "Drop empty columns"
   ]
  },
  {
   "cell_type": "code",
   "execution_count": 5,
   "metadata": {},
   "outputs": [],
   "source": [
    "df_crimes = df_crimes.drop(columns='Unnamed: 0')\n",
    "df_stop_search = df_stop_search.drop(columns='Unnamed: 0')\n",
    "df_street = df_street.drop(columns={'Unnamed: 0','Context'})"
   ]
  },
  {
   "cell_type": "code",
   "execution_count": 6,
   "metadata": {},
   "outputs": [
    {
     "name": "stdout",
     "output_type": "stream",
     "text": [
      "Index(['Unnamed: 0', 'Type', 'Date', 'Part of a policing operation',\n",
      "       'Policing operation', 'Latitude', 'Longitude', 'Gender', 'Age range',\n",
      "       'Self-defined ethnicity', 'Officer-defined ethnicity', 'Legislation',\n",
      "       'Object of search', 'Outcome', 'Outcome linked to object of search',\n",
      "       'Removal of more than just outer clothing', 'force'],\n",
      "      dtype='object')\n",
      "Index(['Unnamed: 0', 'Latitude', 'Longitude'], dtype='object')\n",
      "Index(['Unnamed: 0', 'Crime ID', 'Month', 'Reported by', 'Falls within',\n",
      "       'Longitude', 'Latitude', 'Location', 'LSOA code', 'LSOA name'],\n",
      "      dtype='object')\n"
     ]
    }
   ],
   "source": [
    "print(df_stop_search.columns)\n",
    "df_crimes.columns\n",
    "df_street.columns\n",
    "print(df_stop_search.columns.intersection(df_crimes.columns))\n",
    "print(df_crimes.columns.intersection(df_street.columns))"
   ]
  },
  {
   "cell_type": "code",
   "execution_count": 7,
   "metadata": {},
   "outputs": [
    {
     "data": {
      "text/plain": [
       "Investigation complete; no suspect identified          2227959\n",
       "Unable to prosecute suspect                            1364738\n",
       "Suspect charged                                         490428\n",
       "Local resolution                                        108627\n",
       "Offender given a caution                                 79193\n",
       "Formal action is not in the public interest              56665\n",
       "Further investigation is not in the public interest      52474\n",
       "Action to be taken by another organisation               43401\n",
       "Offender sent to prison                                  24832\n",
       "Offender given a drugs possession warning                23723\n",
       "Offender given community sentence                        19669\n",
       "Defendant found not guilty                               13218\n",
       "Offender given penalty notice                            13147\n",
       "Offender fined                                           10638\n",
       "Offender given suspended prison sentence                  9050\n",
       "Suspect charged as part of another case                   8030\n",
       "Offender given conditional discharge                      7064\n",
       "Court case unable to proceed                              6943\n",
       "Offender otherwise dealt with                             2295\n",
       "Offender ordered to pay compensation                      1850\n",
       "Defendant sent to Crown Court                              897\n",
       "Offender deprived of property                              715\n",
       "Offender given absolute discharge                          203\n",
       "Name: Outcome type, dtype: int64"
      ]
     },
     "execution_count": 7,
     "metadata": {},
     "output_type": "execute_result"
    }
   ],
   "source": [
    "#df_stop_search['Object of search'].value_counts()\n",
    "#df_stop_search[df_stop_search['Object of search']=='Crossbows']\n",
    "df_crimes['Outcome type'].value_counts()"
   ]
  },
  {
   "cell_type": "code",
   "execution_count": 6,
   "metadata": {},
   "outputs": [],
   "source": [
    "df_stop_search['Date'] = pd.to_datetime(df_stop_search['Date'])"
   ]
  },
  {
   "cell_type": "markdown",
   "metadata": {},
   "source": [
    "Get date for stop and search data "
   ]
  },
  {
   "cell_type": "code",
   "execution_count": 7,
   "metadata": {},
   "outputs": [],
   "source": [
    "df_stop_search['DayMonth'] = df_stop_search['Date'].apply(lambda x: \"%d/%d/%d\" % (x.day,x.month, x.year))"
   ]
  },
  {
   "cell_type": "code",
   "execution_count": 8,
   "metadata": {},
   "outputs": [],
   "source": [
    "df_stop_search['Time'] = df_stop_search['Date'].apply(lambda x: \"%d\" % (x.hour))"
   ]
  },
  {
   "cell_type": "code",
   "execution_count": 48,
   "metadata": {},
   "outputs": [
    {
     "data": {
      "text/plain": [
       "Violence and sexual offences    1777912\n",
       "Anti-social behaviour           1410693\n",
       "Criminal damage and arson        581665\n",
       "Other theft                      550911\n",
       "Vehicle crime                    465976\n",
       "Public order                     433957\n",
       "Burglary                         428537\n",
       "Shoplifting                      377850\n",
       "Drugs                            147781\n",
       "Other crime                      103060\n",
       "Theft from the person            101079\n",
       "Bicycle theft                     96424\n",
       "Robbery                           82339\n",
       "Possession of weapons             45674\n",
       "Name: Crime type, dtype: int64"
      ]
     },
     "execution_count": 48,
     "metadata": {},
     "output_type": "execute_result"
    }
   ],
   "source": [
    "df_street['Crime type'].value_counts()"
   ]
  },
  {
   "cell_type": "markdown",
   "metadata": {},
   "source": [
    "Outcomes for each ethnicity"
   ]
  },
  {
   "cell_type": "code",
   "execution_count": 13,
   "metadata": {},
   "outputs": [
    {
     "data": {
      "text/plain": [
       "A no further action disposal                                    0.636398\n",
       "Arrest                                                          0.142661\n",
       "Nothing found - no further action                               0.049541\n",
       "Community resolution                                            0.049186\n",
       "Khat or Cannabis warning                                        0.038910\n",
       "Summons / charged by post                                       0.019206\n",
       "Suspect arrested                                                0.013011\n",
       "Penalty Notice for Disorder                                     0.010825\n",
       "Caution (simple or conditional)                                 0.006266\n",
       "Offender given drugs possession warning                         0.005775\n",
       "Local resolution                                                0.004869\n",
       "Article found - Detailed outcome unavailable                    0.002192\n",
       "Suspect summonsed to court                                      0.001849\n",
       "Offender given penalty notice                                   0.001028\n",
       "Offender cautioned                                              0.000711\n",
       "Suspected psychoactive substances seized - No further action    0.000032\n",
       "Name: Outcome, dtype: float64"
      ]
     },
     "execution_count": 13,
     "metadata": {},
     "output_type": "execute_result"
    }
   ],
   "source": [
    "df_stop_search[df_stop_search['Officer-defined ethnicity']=='White']['Outcome'].value_counts()/len(df_stop_search[df_stop_search['Officer-defined ethnicity']=='White'])"
   ]
  },
  {
   "cell_type": "code",
   "execution_count": 14,
   "metadata": {},
   "outputs": [
    {
     "data": {
      "text/plain": [
       "A no further action disposal                    0.703906\n",
       "Arrest                                          0.161927\n",
       "Community resolution                            0.049567\n",
       "Khat or Cannabis warning                        0.022770\n",
       "Nothing found - no further action               0.015766\n",
       "Penalty Notice for Disorder                     0.015535\n",
       "Summons / charged by post                       0.013854\n",
       "Suspect arrested                                0.005657\n",
       "Caution (simple or conditional)                 0.001616\n",
       "Local resolution                                0.001514\n",
       "Offender given drugs possession warning         0.001001\n",
       "Suspect summonsed to court                      0.000564\n",
       "Article found - Detailed outcome unavailable    0.000513\n",
       "Offender given penalty notice                   0.000308\n",
       "Offender cautioned                              0.000128\n",
       "Name: Outcome, dtype: float64"
      ]
     },
     "execution_count": 14,
     "metadata": {},
     "output_type": "execute_result"
    }
   ],
   "source": [
    "df_stop_search[df_stop_search['Officer-defined ethnicity']=='Black']['Outcome'].value_counts()/len(df_stop_search[df_stop_search['Officer-defined ethnicity']=='Black'])"
   ]
  },
  {
   "cell_type": "markdown",
   "metadata": {},
   "source": [
    "Police force efficiency"
   ]
  },
  {
   "cell_type": "markdown",
   "metadata": {},
   "source": [
    "df_street['Last outcome category'].value_counts()\n",
    "Unresolved 'Investigation complete; no suspect identified','Unable to prosecute suspect' 'Further investigation is not in the public interest'\n",
    "Not yet resolved 'Under investigation' 'Status update unavailable' 'Awaiting court outcome'\n",
    "Resolved 'Local resolution' 'Offender given a caution'"
   ]
  },
  {
   "cell_type": "code",
   "execution_count": 30,
   "metadata": {},
   "outputs": [
    {
     "data": {
      "text/plain": [
       "Unable to prosecute suspect                      74047\n",
       "Investigation complete; no suspect identified    62960\n",
       "Action to be taken by another organisation        8558\n",
       "Under investigation                               8327\n",
       "Status update unavailable                         3304\n",
       "Awaiting court outcome                            2963\n",
       "Offender given a caution                          1654\n",
       "Offender sent to prison                           1421\n",
       "Court result unavailable                          1227\n",
       "Offender given community sentence                 1197\n",
       "Local resolution                                  1150\n",
       "Defendant found not guilty                         511\n",
       "Offender given suspended prison sentence           496\n",
       "Offender given conditional discharge               441\n",
       "Offender given a drugs possession warning          437\n",
       "Offender fined                                     383\n",
       "Court case unable to proceed                       330\n",
       "Offender given penalty notice                      225\n",
       "Offender otherwise dealt with                       64\n",
       "Formal action is not in the public interest         52\n",
       "Offender ordered to pay compensation                48\n",
       "Defendant sent to Crown Court                       44\n",
       "Suspect charged as part of another case             22\n",
       "Offender deprived of property                       16\n",
       "Offender given absolute discharge                    3\n",
       "Name: Last outcome category, dtype: int64"
      ]
     },
     "execution_count": 30,
     "metadata": {},
     "output_type": "execute_result"
    }
   ],
   "source": [
    "df_street[df_street['Falls within']=='Kent Police']['Last outcome category'].value_counts()"
   ]
  },
  {
   "cell_type": "code",
   "execution_count": 9,
   "metadata": {},
   "outputs": [
    {
     "name": "stdout",
     "output_type": "stream",
     "text": [
      "Awaiting resolution\n"
     ]
    }
   ],
   "source": [
    "resolved = ['Offender given community sentence','Offender given a caution','Offender sent to prison',\n",
    "             'Local resolution','Defendant found not guilty','Offender given suspended prison sentence',\n",
    "            'Offender given conditional discharge','Offender given a drugs possession warning','Court result unavailable',\n",
    "            'Offender given penalty notice','Offender otherwise dealt with','Offender fined','Suspect charged as part of another case',\n",
    "            'Offender ordered to pay compensation','Offender given absolute discharge','Defendant sent to Crown Court','Offender deprived of property']\n",
    "notresolved = ['Unable to prosecute suspect','Investigation complete; no suspect identified','Court case unable to proceed',\n",
    "               'Formal action is not in the public interest']\n",
    "waiting=['Under investigation','Awaiting court outcome','Status update unavailable','Action to be taken by another organisation']\n",
    "\n",
    "def outcome(c):\n",
    "  if c in waiting:\n",
    "    return 'Awaiting resolution'\n",
    "  elif c in notresolved:\n",
    "    return 'No resolution'\n",
    "  elif c in resolved:\n",
    "    return 'Resolution'\n",
    "print(outcome('Under investigation'))\n",
    "\n",
    "df_street['Type of outcome'] = df_street['Last outcome category'].apply(outcome)\n"
   ]
  },
  {
   "cell_type": "code",
   "execution_count": 46,
   "metadata": {},
   "outputs": [
    {
     "data": {
      "text/plain": [
       "No resolution          0.161377\n",
       "Awaiting resolution    0.080977\n",
       "Resolution             0.016625\n",
       "Name: Type of outcome, dtype: float64"
      ]
     },
     "execution_count": 46,
     "metadata": {},
     "output_type": "execute_result"
    }
   ],
   "source": [
    "df_street[df_street['Crime type']=='Violence and sexual offences']['Type of outcome'].value_counts()/len(df_street['Crime type']=='Violence and sexual offences')"
   ]
  },
  {
   "cell_type": "code",
   "execution_count": 57,
   "metadata": {},
   "outputs": [
    {
     "data": {
      "text/plain": [
       "Index(['Crime ID', 'Month', 'Reported by', 'Falls within', 'Longitude',\n",
       "       'Latitude', 'Location', 'LSOA code', 'LSOA name', 'Crime type',\n",
       "       'Last outcome category', 'Type of outcome'],\n",
       "      dtype='object')"
      ]
     },
     "execution_count": 57,
     "metadata": {},
     "output_type": "execute_result"
    }
   ],
   "source": [
    "df_street.columns"
   ]
  },
  {
   "cell_type": "code",
   "execution_count": 51,
   "metadata": {},
   "outputs": [],
   "source": [
    "prosecuted = ['Offender given suspended prison sentence','Awaiting court outcome','Defendant found not guilty',\n",
    "              'Offender sent to prison','Court result unavailable','Defendant sent to Crown Court','Offender given conditional discharge']\n",
    "\n",
    "def prosecution(c):\n",
    "    if c in prosecuted:\n",
    "        return 'Prosecution'\n",
    "    else:\n",
    "        return'No prosecution/Unknown'\n",
    "df_street['Prosecution'] = df_street['Last outcome category'].apply(prosecution)\n"
   ]
  },
  {
   "cell_type": "code",
   "execution_count": null,
   "metadata": {},
   "outputs": [],
   "source": [
    "#pd.Series(np.intersect1d(df_street['Crime ID'], df_crimes['Crime ID']))\n",
    "print(len(set(df_street['Crime ID']).intersection(df_crimes['Crime ID'])))\n",
    "#print(len(df_crimes['Crime ID']))\n",
    "#print(len(df_street['Crime ID']))\n",
    "#print(len(df_street['Crime ID'])-df_street['Crime ID'].isna().sum())\n",
    "#print(df_street['Crime ID'].isna().sum() + len(set(df_street['Crime ID']).intersection(df_crimes['Crime ID'])))"
   ]
  },
  {
   "cell_type": "markdown",
   "metadata": {},
   "source": [
    "Plots"
   ]
  },
  {
   "cell_type": "code",
   "execution_count": 54,
   "metadata": {},
   "outputs": [],
   "source": [
    "import altair\n",
    "import matplotlib.pyplot as plt\n",
    "%matplotlib inline"
   ]
  },
  {
   "cell_type": "code",
   "execution_count": 57,
   "metadata": {},
   "outputs": [
    {
     "data": {
      "text/plain": [
       "Index(['Crime ID', 'Month', 'Reported by', 'Falls within', 'Longitude',\n",
       "       'Latitude', 'Location', 'LSOA code', 'LSOA name', 'Crime type',\n",
       "       'Last outcome category', 'Type of outcome'],\n",
       "      dtype='object')"
      ]
     },
     "execution_count": 57,
     "metadata": {},
     "output_type": "execute_result"
    }
   ],
   "source": [
    "df_street.columns"
   ]
  },
  {
   "cell_type": "code",
   "execution_count": 31,
   "metadata": {},
   "outputs": [],
   "source": [
    "#df_street['Type of outcome'].groupby('Month').agg({\"duration\": \"sum\"})\n",
    "outcome_time = df_street.groupby('Month')['Type of outcome'].value_counts()"
   ]
  },
  {
   "cell_type": "code",
   "execution_count": 17,
   "metadata": {},
   "outputs": [],
   "source": [
    "import matplotlib.pyplot as plt\n",
    "%matplotlib inline"
   ]
  },
  {
   "cell_type": "code",
   "execution_count": 48,
   "metadata": {},
   "outputs": [],
   "source": [
    "noresolution = np.array(outcome_time[0::3])\n",
    "awaiting = np.array(outcome_time[1::3])\n",
    "resolution = np.array(outcome_time[2::3])\n",
    "months = np.arange(1,13)"
   ]
  },
  {
   "cell_type": "code",
   "execution_count": 56,
   "metadata": {},
   "outputs": [
    {
     "data": {
      "image/png": "[encoded data removed]",
      "text/plain": [
       "<Figure size 720x720 with 1 Axes>"
      ]
     },
     "metadata": {
      "needs_background": "light"
     },
     "output_type": "display_data"
    }
   ],
   "source": [
    "plt.figure(figsize=(10,10))\n",
    "plt.plot(months,resolution,'go-',label='Resolution')\n",
    "plt.plot(months,noresolution,'yo-',label='No resolution')\n",
    "plt.plot(months,awaiting,'bo-',label='Awaiting resolution')\n",
    "plt.xlabel('Month')\n",
    "plt.ylabel('Count')\n",
    "plt.legend()\n",
    "plt.savefig('Resolutiontypes_vs_time.png')"
   ]
  },
  {
   "cell_type": "code",
   "execution_count": null,
   "metadata": {},
   "outputs": [],
   "source": []
  }
 ],
 "metadata": {
  "kernelspec": {
   "display_name": "Python 3",
   "language": "python",
   "name": "python3"
  },
  "language_info": {
   "codemirror_mode": {
    "name": "ipython",
    "version": 3
   },
   "file_extension": ".py",
   "mimetype": "text/x-python",
   "name": "python",
   "nbconvert_exporter": "python",
   "pygments_lexer": "ipython3",
   "version": "3.6.7"
  }
 },
 "nbformat": 4,
 "nbformat_minor": 2
}
