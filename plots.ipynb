{
 "cells": [
  {
   "cell_type": "code",
   "execution_count": 2,
   "metadata": {},
   "outputs": [],
   "source": [
    "import pandas as pd\n",
    "import numpy as np\n",
    "import matplotlib.pyplot as plt\n"
   ]
  },
  {
   "cell_type": "code",
   "execution_count": 3,
   "metadata": {},
   "outputs": [],
   "source": [
    "fields = ['LSOA code','Crime type','datetime','force']\n",
    "df_crimes = pd.read_csv('../crime_street_test.csv', usecols=fields)\n",
    "#df_stop_search = pd.read_csv('../Astraea/2018-01/2018-01-cleveland-stop-and-search.csv')\n",
    "#df_street = pd.read_csv('../crime_street_all.csv', index_col=0)"
   ]
  },
  {
   "cell_type": "code",
   "execution_count": 4,
   "metadata": {},
   "outputs": [
    {
     "data": {
      "text/plain": [
       "Index(['LSOA code', 'Crime type', 'datetime', 'force'], dtype='object')"
      ]
     },
     "execution_count": 4,
     "metadata": {},
     "output_type": "execute_result"
    }
   ],
   "source": [
    "df_crimes.columns"
   ]
  },
  {
   "cell_type": "code",
   "execution_count": 4,
   "metadata": {},
   "outputs": [],
   "source": []
  },
  {
   "cell_type": "code",
   "execution_count": 18,
   "metadata": {},
   "outputs": [],
   "source": [
    "df_lsoa_crimes = df_crimes.groupby('LSOA code').count()\n",
    "df_lsoa_crimes.rename(columns={'force':'count'}, inplace=True)\n",
    "df_lsoa_crimes = df_lsoa_crimes.drop('datetime', axis=1)\n",
    "df_lsoa_crimes = df_lsoa_crimes.drop('Crime type', axis=1)"
   ]
  },
  {
   "cell_type": "code",
   "execution_count": 19,
   "metadata": {},
   "outputs": [
    {
     "data": {
      "text/plain": [
       "Index(['LSOA code', 'LSOA name', 'Mid-2017 population', 'Area Sq Km',\n",
       "       'People per Sq Km'],\n",
       "      dtype='object')"
      ]
     },
     "execution_count": 19,
     "metadata": {},
     "output_type": "execute_result"
    }
   ],
   "source": [
    "df_pop = pd.read_csv('population-density.csv')\n",
    "#df_pop.drop(labels='LSOA name',axis=1, inplace=True)\n",
    "df_pop['Mid-2017 population'] = df_pop['Mid-2017 population'].str.replace(',', '')\n",
    "df_pop['People per Sq Km'] = df_pop['People per Sq Km'].str.replace(',', '')\n",
    "df_pop['Mid-2017 population'] = pd.to_numeric(df_pop['Mid-2017 population'])\n",
    "df_pop['People per Sq Km'] = pd.to_numeric(df_pop['People per Sq Km'])\n",
    "df_pop.columns\n"
   ]
  },
  {
   "cell_type": "code",
   "execution_count": 20,
   "metadata": {},
   "outputs": [],
   "source": [
    "df_lsoa_crimes = df_lsoa_crimes.merge(df_pop, how='inner', on='LSOA code')\n",
    "df_lsoa_crimes.rename(columns={'People per Sq Km':'pop_density'}, inplace=True)\n"
   ]
  },
  {
   "cell_type": "code",
   "execution_count": 21,
   "metadata": {},
   "outputs": [],
   "source": [
    "df_urban = pd.read_csv('Rural_Urban_conv.csv')\n",
    "df_lsoa_crimes=df_lsoa_crimes.merge(df_urban, how='inner', on='LSOA code')"
   ]
  },
  {
   "cell_type": "code",
   "execution_count": 22,
   "metadata": {},
   "outputs": [
    {
     "data": {
      "text/html": [
       "<div>\n",
       "<style scoped>\n",
       "    .dataframe tbody tr th:only-of-type {\n",
       "        vertical-align: middle;\n",
       "    }\n",
       "\n",
       "    .dataframe tbody tr th {\n",
       "        vertical-align: top;\n",
       "    }\n",
       "\n",
       "    .dataframe thead th {\n",
       "        text-align: right;\n",
       "    }\n",
       "</style>\n",
       "<table border=\"1\" class=\"dataframe\">\n",
       "  <thead>\n",
       "    <tr style=\"text-align: right;\">\n",
       "      <th></th>\n",
       "      <th>LSOA code</th>\n",
       "      <th>count</th>\n",
       "      <th>LSOA name</th>\n",
       "      <th>Mid-2017 population</th>\n",
       "      <th>Area Sq Km</th>\n",
       "      <th>pop_density</th>\n",
       "      <th>Urban</th>\n",
       "    </tr>\n",
       "  </thead>\n",
       "  <tbody>\n",
       "    <tr>\n",
       "      <th>0</th>\n",
       "      <td>E01000001</td>\n",
       "      <td>331</td>\n",
       "      <td>City of London 001A</td>\n",
       "      <td>1375</td>\n",
       "      <td>0.13</td>\n",
       "      <td>10593</td>\n",
       "      <td>1</td>\n",
       "    </tr>\n",
       "    <tr>\n",
       "      <th>1</th>\n",
       "      <td>E01000002</td>\n",
       "      <td>380</td>\n",
       "      <td>City of London 001B</td>\n",
       "      <td>1316</td>\n",
       "      <td>0.23</td>\n",
       "      <td>5762</td>\n",
       "      <td>1</td>\n",
       "    </tr>\n",
       "    <tr>\n",
       "      <th>2</th>\n",
       "      <td>E01000003</td>\n",
       "      <td>50</td>\n",
       "      <td>City of London 001C</td>\n",
       "      <td>1497</td>\n",
       "      <td>0.06</td>\n",
       "      <td>25330</td>\n",
       "      <td>1</td>\n",
       "    </tr>\n",
       "    <tr>\n",
       "      <th>3</th>\n",
       "      <td>E01000005</td>\n",
       "      <td>744</td>\n",
       "      <td>City of London 001E</td>\n",
       "      <td>1438</td>\n",
       "      <td>0.19</td>\n",
       "      <td>7584</td>\n",
       "      <td>1</td>\n",
       "    </tr>\n",
       "    <tr>\n",
       "      <th>4</th>\n",
       "      <td>E01000006</td>\n",
       "      <td>104</td>\n",
       "      <td>Barking and Dagenham 016A</td>\n",
       "      <td>2043</td>\n",
       "      <td>0.15</td>\n",
       "      <td>13936</td>\n",
       "      <td>1</td>\n",
       "    </tr>\n",
       "  </tbody>\n",
       "</table>\n",
       "</div>"
      ],
      "text/plain": [
       "   LSOA code  count                  LSOA name  Mid-2017 population  \\\n",
       "0  E01000001    331        City of London 001A                 1375   \n",
       "1  E01000002    380        City of London 001B                 1316   \n",
       "2  E01000003     50        City of London 001C                 1497   \n",
       "3  E01000005    744        City of London 001E                 1438   \n",
       "4  E01000006    104  Barking and Dagenham 016A                 2043   \n",
       "\n",
       "   Area Sq Km  pop_density   Urban   \n",
       "0        0.13        10593        1  \n",
       "1        0.23         5762        1  \n",
       "2        0.06        25330        1  \n",
       "3        0.19         7584        1  \n",
       "4        0.15        13936        1  "
      ]
     },
     "execution_count": 22,
     "metadata": {},
     "output_type": "execute_result"
    }
   ],
   "source": [
    "df_lsoa_crimes.head()"
   ]
  },
  {
   "cell_type": "code",
   "execution_count": 23,
   "metadata": {
    "scrolled": true
   },
   "outputs": [
    {
     "data": {
      "text/html": [
       "<div>\n",
       "<style scoped>\n",
       "    .dataframe tbody tr th:only-of-type {\n",
       "        vertical-align: middle;\n",
       "    }\n",
       "\n",
       "    .dataframe tbody tr th {\n",
       "        vertical-align: top;\n",
       "    }\n",
       "\n",
       "    .dataframe thead th {\n",
       "        text-align: right;\n",
       "    }\n",
       "</style>\n",
       "<table border=\"1\" class=\"dataframe\">\n",
       "  <thead>\n",
       "    <tr style=\"text-align: right;\">\n",
       "      <th></th>\n",
       "      <th>LSOA code</th>\n",
       "      <th>count</th>\n",
       "      <th>LSOA name</th>\n",
       "      <th>Mid-2017 population</th>\n",
       "      <th>Area Sq Km</th>\n",
       "      <th>pop_density</th>\n",
       "      <th>Urban</th>\n",
       "      <th>crime_rate</th>\n",
       "    </tr>\n",
       "  </thead>\n",
       "  <tbody>\n",
       "    <tr>\n",
       "      <th>0</th>\n",
       "      <td>E01000001</td>\n",
       "      <td>331</td>\n",
       "      <td>City of London 001A</td>\n",
       "      <td>1375</td>\n",
       "      <td>0.13</td>\n",
       "      <td>10593</td>\n",
       "      <td>1</td>\n",
       "      <td>0.240727</td>\n",
       "    </tr>\n",
       "    <tr>\n",
       "      <th>1</th>\n",
       "      <td>E01000002</td>\n",
       "      <td>380</td>\n",
       "      <td>City of London 001B</td>\n",
       "      <td>1316</td>\n",
       "      <td>0.23</td>\n",
       "      <td>5762</td>\n",
       "      <td>1</td>\n",
       "      <td>0.288754</td>\n",
       "    </tr>\n",
       "    <tr>\n",
       "      <th>2</th>\n",
       "      <td>E01000003</td>\n",
       "      <td>50</td>\n",
       "      <td>City of London 001C</td>\n",
       "      <td>1497</td>\n",
       "      <td>0.06</td>\n",
       "      <td>25330</td>\n",
       "      <td>1</td>\n",
       "      <td>0.033400</td>\n",
       "    </tr>\n",
       "    <tr>\n",
       "      <th>3</th>\n",
       "      <td>E01000005</td>\n",
       "      <td>744</td>\n",
       "      <td>City of London 001E</td>\n",
       "      <td>1438</td>\n",
       "      <td>0.19</td>\n",
       "      <td>7584</td>\n",
       "      <td>1</td>\n",
       "      <td>0.517385</td>\n",
       "    </tr>\n",
       "    <tr>\n",
       "      <th>4</th>\n",
       "      <td>E01000006</td>\n",
       "      <td>104</td>\n",
       "      <td>Barking and Dagenham 016A</td>\n",
       "      <td>2043</td>\n",
       "      <td>0.15</td>\n",
       "      <td>13936</td>\n",
       "      <td>1</td>\n",
       "      <td>0.050906</td>\n",
       "    </tr>\n",
       "  </tbody>\n",
       "</table>\n",
       "</div>"
      ],
      "text/plain": [
       "   LSOA code  count                  LSOA name  Mid-2017 population  \\\n",
       "0  E01000001    331        City of London 001A                 1375   \n",
       "1  E01000002    380        City of London 001B                 1316   \n",
       "2  E01000003     50        City of London 001C                 1497   \n",
       "3  E01000005    744        City of London 001E                 1438   \n",
       "4  E01000006    104  Barking and Dagenham 016A                 2043   \n",
       "\n",
       "   Area Sq Km  pop_density   Urban   crime_rate  \n",
       "0        0.13        10593        1    0.240727  \n",
       "1        0.23         5762        1    0.288754  \n",
       "2        0.06        25330        1    0.033400  \n",
       "3        0.19         7584        1    0.517385  \n",
       "4        0.15        13936        1    0.050906  "
      ]
     },
     "execution_count": 23,
     "metadata": {},
     "output_type": "execute_result"
    }
   ],
   "source": [
    "df_lsoa_crimes['crime_rate'] = df_lsoa_crimes.apply(lambda x: x['count']/float(x['Mid-2017 population']), axis=1)\n",
    "df_lsoa_crimes.head()"
   ]
  },
  {
   "cell_type": "code",
   "execution_count": 25,
   "metadata": {},
   "outputs": [
    {
     "data": {
      "text/plain": [
       "<matplotlib.axes._subplots.AxesSubplot at 0x717a025dc208>"
      ]
     },
     "execution_count": 25,
     "metadata": {},
     "output_type": "execute_result"
    },
    {
     "data": {
      "image/png": "[encoded data removed]",
      "text/plain": [
       "<Figure size 432x288 with 1 Axes>"
      ]
     },
     "metadata": {
      "needs_background": "light"
     },
     "output_type": "display_data"
    }
   ],
   "source": [
    "df_lsoa_crimes.plot.scatter(x='Mid-2017 population', y='count')"
   ]
  },
  {
   "cell_type": "code",
   "execution_count": 27,
   "metadata": {},
   "outputs": [
    {
     "data": {
      "text/plain": [
       "<matplotlib.axes._subplots.AxesSubplot at 0x717a02136f98>"
      ]
     },
     "execution_count": 27,
     "metadata": {},
     "output_type": "execute_result"
    },
    {
     "data": {
      "image/png": "[encoded data removed]",
      "text/plain": [
       "<Figure size 432x288 with 1 Axes>"
      ]
     },
     "metadata": {
      "needs_background": "light"
     },
     "output_type": "display_data"
    }
   ],
   "source": [
    "df_lsoa_crimes.plot.scatter(x='pop_density', y='crime_rate')"
   ]
  },
  {
   "cell_type": "code",
   "execution_count": 74,
   "metadata": {},
   "outputs": [
    {
     "data": {
      "text/plain": [
       "31945"
      ]
     },
     "execution_count": 74,
     "metadata": {},
     "output_type": "execute_result"
    }
   ],
   "source": [
    "max(df_lsoa_crimes['crime_rate'])\n",
    "df_lsoa_crimes.pop_density.idxmax()"
   ]
  },
  {
   "cell_type": "code",
   "execution_count": 75,
   "metadata": {},
   "outputs": [
    {
     "data": {
      "text/html": [
       "<div>\n",
       "<style scoped>\n",
       "    .dataframe tbody tr th:only-of-type {\n",
       "        vertical-align: middle;\n",
       "    }\n",
       "\n",
       "    .dataframe tbody tr th {\n",
       "        vertical-align: top;\n",
       "    }\n",
       "\n",
       "    .dataframe thead th {\n",
       "        text-align: right;\n",
       "    }\n",
       "</style>\n",
       "<table border=\"1\" class=\"dataframe\">\n",
       "  <thead>\n",
       "    <tr style=\"text-align: right;\">\n",
       "      <th></th>\n",
       "      <th>LSOA code</th>\n",
       "      <th>Month</th>\n",
       "      <th>LSOA name</th>\n",
       "      <th>Mid-2017 population</th>\n",
       "      <th>Area Sq Km</th>\n",
       "      <th>pop_density</th>\n",
       "      <th>Urban</th>\n",
       "      <th>crime_rate</th>\n",
       "    </tr>\n",
       "  </thead>\n",
       "  <tbody>\n",
       "    <tr>\n",
       "      <th>31945</th>\n",
       "      <td>E01032773</td>\n",
       "      <td>128</td>\n",
       "      <td>Tower Hamlets 032D</td>\n",
       "      <td>3347</td>\n",
       "      <td>0.03</td>\n",
       "      <td>99024</td>\n",
       "      <td>1</td>\n",
       "      <td>0.038243</td>\n",
       "    </tr>\n",
       "  </tbody>\n",
       "</table>\n",
       "</div>"
      ],
      "text/plain": [
       "       LSOA code  Month           LSOA name  Mid-2017 population  Area Sq Km  \\\n",
       "31945  E01032773    128  Tower Hamlets 032D                 3347        0.03   \n",
       "\n",
       "       pop_density   Urban   crime_rate  \n",
       "31945        99024        1    0.038243  "
      ]
     },
     "execution_count": 75,
     "metadata": {},
     "output_type": "execute_result"
    }
   ],
   "source": [
    "df_lsoa_crimes.iloc[[31945]]"
   ]
  },
  {
   "cell_type": "code",
   "execution_count": 59,
   "metadata": {},
   "outputs": [
    {
     "data": {
      "text/plain": [
       "array([[<matplotlib.axes._subplots.AxesSubplot object at 0x7825f82ffb70>]],\n",
       "      dtype=object)"
      ]
     },
     "execution_count": 59,
     "metadata": {},
     "output_type": "execute_result"
    },
    {
     "data": {
      "image/png": "[encoded data removed]",
      "text/plain": [
       "<Figure size 432x288 with 1 Axes>"
      ]
     },
     "metadata": {
      "needs_background": "light"
     },
     "output_type": "display_data"
    }
   ],
   "source": [
    "df_lsoa_crimes.hist(column='crime_rate', bins=100)\n"
   ]
  },
  {
   "cell_type": "code",
   "execution_count": null,
   "metadata": {},
   "outputs": [],
   "source": [
    "dat = df_crimes.groupby('Month').count()['Crime ID']"
   ]
  },
  {
   "cell_type": "code",
   "execution_count": null,
   "metadata": {},
   "outputs": [],
   "source": [
    "dat.plot()"
   ]
  },
  {
   "cell_type": "markdown",
   "metadata": {},
   "source": [
    "# Crime outcomes data"
   ]
  },
  {
   "cell_type": "code",
   "execution_count": null,
   "metadata": {},
   "outputs": [],
   "source": [
    "df_crimes.head()"
   ]
  },
  {
   "cell_type": "code",
   "execution_count": null,
   "metadata": {},
   "outputs": [],
   "source": [
    "df_crimes.groupby('Outcome type').count().sort_values('Month', ascending=False)['Month']"
   ]
  },
  {
   "cell_type": "markdown",
   "metadata": {},
   "source": [
    "### Plotting example with Altair"
   ]
  },
  {
   "cell_type": "code",
   "execution_count": null,
   "metadata": {},
   "outputs": [],
   "source": [
    "alt.Chart(df_crimes[:4000]).mark_point().encode(\n",
    "    x='LSOA name',\n",
    "    y='Outcome type'\n",
    ")"
   ]
  },
  {
   "cell_type": "markdown",
   "metadata": {},
   "source": [
    "# Stop and s"
   ]
  },
  {
   "cell_type": "code",
   "execution_count": null,
   "metadata": {},
   "outputs": [],
   "source": [
    "df_stop_search.head()"
   ]
  },
  {
   "cell_type": "markdown",
   "metadata": {},
   "source": [
    "# Street crimes data"
   ]
  },
  {
   "cell_type": "code",
   "execution_count": null,
   "metadata": {},
   "outputs": [],
   "source": [
    "df_street.tail()"
   ]
  },
  {
   "cell_type": "markdown",
   "metadata": {},
   "source": [
    "# Querying the API for the same data"
   ]
  },
  {
   "cell_type": "code",
   "execution_count": null,
   "metadata": {},
   "outputs": [],
   "source": [
    "api = PoliceAPI()\n",
    "api.get_forces()"
   ]
  },
  {
   "cell_type": "code",
   "execution_count": null,
   "metadata": {},
   "outputs": [],
   "source": []
  }
 ],
 "metadata": {
  "kernelspec": {
   "display_name": "Python 3",
   "language": "python",
   "name": "python3"
  },
  "language_info": {
   "codemirror_mode": {
    "name": "ipython",
    "version": 3
   },
   "file_extension": ".py",
   "mimetype": "text/x-python",
   "name": "python",
   "nbconvert_exporter": "python",
   "pygments_lexer": "ipython3",
   "version": "3.7.2"
  }
 },
 "nbformat": 4,
 "nbformat_minor": 2
}
