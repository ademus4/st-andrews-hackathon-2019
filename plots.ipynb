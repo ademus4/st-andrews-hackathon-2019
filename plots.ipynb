{
 "cells": [
  {
   "cell_type": "code",
   "execution_count": 1,
   "metadata": {},
   "outputs": [],
   "source": [
    "import pandas as pd\n",
    "import numpy as np\n",
    "import matplotlib.pyplot as plt\n"
   ]
  },
  {
   "cell_type": "code",
   "execution_count": 2,
   "metadata": {},
   "outputs": [
    {
     "name": "stderr",
     "output_type": "stream",
     "text": [
      "/home/gdp/miniconda3/envs/py3iaml/lib/python3.7/site-packages/numpy/lib/arraysetops.py:518: FutureWarning: elementwise comparison failed; returning scalar instead, but in the future will perform elementwise comparison\n",
      "  mask |= (ar1 == a)\n"
     ]
    }
   ],
   "source": [
    "df_crimes = pd.read_csv('../crime_outcomes_all.csv', index_col=0)\n",
    "#df_stop_search = pd.read_csv('../Astraea/2018-01/2018-01-cleveland-stop-and-search.csv')\n",
    "#df_street = pd.read_csv('../crime_street_all.csv', index_col=0)"
   ]
  },
  {
   "cell_type": "code",
   "execution_count": 3,
   "metadata": {},
   "outputs": [
    {
     "data": {
      "text/plain": [
       "Index(['Crime ID', 'Month', 'Reported by', 'Falls within', 'Longitude',\n",
       "       'Latitude', 'Location', 'LSOA code', 'LSOA name', 'Outcome type'],\n",
       "      dtype='object')"
      ]
     },
     "execution_count": 3,
     "metadata": {},
     "output_type": "execute_result"
    }
   ],
   "source": [
    "df_crimes.columns"
   ]
  },
  {
   "cell_type": "code",
   "execution_count": 4,
   "metadata": {},
   "outputs": [],
   "source": [
    "df_crimes.drop(labels='Falls within', axis=1, inplace=True)\n",
    "df_crimes.drop(labels='LSOA name', axis=1, inplace=True)"
   ]
  },
  {
   "cell_type": "code",
   "execution_count": 64,
   "metadata": {},
   "outputs": [],
   "source": [
    "df_lsoa_crimes = df_crimes.groupby('LSOA code').count()\n",
    "df_lsoa_crimes.drop(labels='Crime ID', axis=1, inplace=True)\n",
    "df_lsoa_crimes.drop(labels='Longitude', axis=1, inplace=True)\n",
    "df_lsoa_crimes.drop(labels='Latitude', axis=1, inplace=True)\n",
    "df_lsoa_crimes.drop(labels='Reported by', axis=1, inplace=True)\n",
    "df_lsoa_crimes.drop(labels='Outcome type', axis=1, inplace=True)\n",
    "df_lsoa_crimes.drop(labels='Location', axis=1, inplace=True)"
   ]
  },
  {
   "cell_type": "code",
   "execution_count": 65,
   "metadata": {},
   "outputs": [
    {
     "data": {
      "text/plain": [
       "Index(['LSOA code', 'LSOA name', 'Mid-2017 population', 'Area Sq Km',\n",
       "       'People per Sq Km'],\n",
       "      dtype='object')"
      ]
     },
     "execution_count": 65,
     "metadata": {},
     "output_type": "execute_result"
    }
   ],
   "source": [
    "df_pop = pd.read_csv('population-density.csv')\n",
    "#df_pop.drop(labels='LSOA name',axis=1, inplace=True)\n",
    "df_pop.columns\n"
   ]
  },
  {
   "cell_type": "code",
   "execution_count": 66,
   "metadata": {},
   "outputs": [],
   "source": [
    "df_lsoa_crimes = df_lsoa_crimes.merge(df_pop, how='inner', on='LSOA code')"
   ]
  },
  {
   "cell_type": "code",
   "execution_count": 67,
   "metadata": {},
   "outputs": [],
   "source": [
    "df_urban = pd.read_csv('Rural_Urban_conv.csv')\n",
    "df_lsoa_crimes=df_lsoa_crimes.merge(df_urban, how='inner', on='LSOA code')"
   ]
  },
  {
   "cell_type": "code",
   "execution_count": 68,
   "metadata": {},
   "outputs": [],
   "source": [
    "df_lsoa_crimes['Mid-2017 population'] = df_lsoa_crimes['Mid-2017 population'].str.replace(',', '')\n",
    "df_lsoa_crimes['People per Sq Km'] = df_lsoa_crimes['People per Sq Km'].str.replace(',', '')"
   ]
  },
  {
   "cell_type": "code",
   "execution_count": 69,
   "metadata": {
    "scrolled": true
   },
   "outputs": [
    {
     "data": {
      "text/html": [
       "<div>\n",
       "<style scoped>\n",
       "    .dataframe tbody tr th:only-of-type {\n",
       "        vertical-align: middle;\n",
       "    }\n",
       "\n",
       "    .dataframe tbody tr th {\n",
       "        vertical-align: top;\n",
       "    }\n",
       "\n",
       "    .dataframe thead th {\n",
       "        text-align: right;\n",
       "    }\n",
       "</style>\n",
       "<table border=\"1\" class=\"dataframe\">\n",
       "  <thead>\n",
       "    <tr style=\"text-align: right;\">\n",
       "      <th></th>\n",
       "      <th>LSOA code</th>\n",
       "      <th>Month</th>\n",
       "      <th>LSOA name</th>\n",
       "      <th>Mid-2017 population</th>\n",
       "      <th>Area Sq Km</th>\n",
       "      <th>People per Sq Km</th>\n",
       "      <th>Urban</th>\n",
       "      <th>crime_rate</th>\n",
       "    </tr>\n",
       "  </thead>\n",
       "  <tbody>\n",
       "    <tr>\n",
       "      <th>0</th>\n",
       "      <td>E01000001</td>\n",
       "      <td>226</td>\n",
       "      <td>City of London 001A</td>\n",
       "      <td>1375</td>\n",
       "      <td>0.13</td>\n",
       "      <td>10593</td>\n",
       "      <td>1</td>\n",
       "      <td>0.164364</td>\n",
       "    </tr>\n",
       "    <tr>\n",
       "      <th>1</th>\n",
       "      <td>E01000002</td>\n",
       "      <td>179</td>\n",
       "      <td>City of London 001B</td>\n",
       "      <td>1316</td>\n",
       "      <td>0.23</td>\n",
       "      <td>5762</td>\n",
       "      <td>1</td>\n",
       "      <td>0.136018</td>\n",
       "    </tr>\n",
       "    <tr>\n",
       "      <th>2</th>\n",
       "      <td>E01000003</td>\n",
       "      <td>21</td>\n",
       "      <td>City of London 001C</td>\n",
       "      <td>1497</td>\n",
       "      <td>0.06</td>\n",
       "      <td>25330</td>\n",
       "      <td>1</td>\n",
       "      <td>0.014028</td>\n",
       "    </tr>\n",
       "    <tr>\n",
       "      <th>3</th>\n",
       "      <td>E01000005</td>\n",
       "      <td>369</td>\n",
       "      <td>City of London 001E</td>\n",
       "      <td>1438</td>\n",
       "      <td>0.19</td>\n",
       "      <td>7584</td>\n",
       "      <td>1</td>\n",
       "      <td>0.256606</td>\n",
       "    </tr>\n",
       "    <tr>\n",
       "      <th>4</th>\n",
       "      <td>E01000006</td>\n",
       "      <td>47</td>\n",
       "      <td>Barking and Dagenham 016A</td>\n",
       "      <td>2043</td>\n",
       "      <td>0.15</td>\n",
       "      <td>13936</td>\n",
       "      <td>1</td>\n",
       "      <td>0.023005</td>\n",
       "    </tr>\n",
       "  </tbody>\n",
       "</table>\n",
       "</div>"
      ],
      "text/plain": [
       "   LSOA code  Month                  LSOA name Mid-2017 population  \\\n",
       "0  E01000001    226        City of London 001A                1375   \n",
       "1  E01000002    179        City of London 001B                1316   \n",
       "2  E01000003     21        City of London 001C                1497   \n",
       "3  E01000005    369        City of London 001E                1438   \n",
       "4  E01000006     47  Barking and Dagenham 016A                2043   \n",
       "\n",
       "   Area Sq Km People per Sq Km   Urban   crime_rate  \n",
       "0        0.13            10593        1    0.164364  \n",
       "1        0.23             5762        1    0.136018  \n",
       "2        0.06            25330        1    0.014028  \n",
       "3        0.19             7584        1    0.256606  \n",
       "4        0.15            13936        1    0.023005  "
      ]
     },
     "execution_count": 69,
     "metadata": {},
     "output_type": "execute_result"
    }
   ],
   "source": [
    "df_lsoa_crimes['crime_rate'] = df_lsoa_crimes.apply(lambda x: x['Month']/float(x['Mid-2017 population']), axis=1)\n",
    "df_lsoa_crimes.head()"
   ]
  },
  {
   "cell_type": "code",
   "execution_count": 70,
   "metadata": {},
   "outputs": [
    {
     "data": {
      "text/plain": [
       "<matplotlib.axes._subplots.AxesSubplot at 0x7825f63f63c8>"
      ]
     },
     "execution_count": 70,
     "metadata": {},
     "output_type": "execute_result"
    },
    {
     "data": {
      "image/png": "[encoded data removed]",
      "text/plain": [
       "<Figure size 432x288 with 1 Axes>"
      ]
     },
     "metadata": {
      "needs_background": "light"
     },
     "output_type": "display_data"
    }
   ],
   "source": [
    "df_lsoa_crimes['Mid-2017 population'] = pd.to_numeric(df_lsoa_crimes['Mid-2017 population'])\n",
    "df_lsoa_crimes.plot.scatter(x='Mid-2017 population', y='Month')"
   ]
  },
  {
   "cell_type": "code",
   "execution_count": 71,
   "metadata": {},
   "outputs": [
    {
     "data": {
      "text/plain": [
       "<matplotlib.axes._subplots.AxesSubplot at 0x7825f63d74e0>"
      ]
     },
     "execution_count": 71,
     "metadata": {},
     "output_type": "execute_result"
    },
    {
     "data": {
      "image/png": "[encoded data removed]",
      "text/plain": [
       "<Figure size 432x288 with 1 Axes>"
      ]
     },
     "metadata": {
      "needs_background": "light"
     },
     "output_type": "display_data"
    }
   ],
   "source": [
    "df_lsoa_crimes['People per Sq Km'] = pd.to_numeric(df_lsoa_crimes['People per Sq Km'])\n",
    "df_lsoa_crimes.plot.scatter(x='People per Sq Km', y='crime_rate')"
   ]
  },
  {
   "cell_type": "code",
   "execution_count": 74,
   "metadata": {},
   "outputs": [
    {
     "data": {
      "text/plain": [
       "31945"
      ]
     },
     "execution_count": 74,
     "metadata": {},
     "output_type": "execute_result"
    }
   ],
   "source": [
    "max(df_lsoa_crimes['crime_rate'])\n",
    "df_lsoa_crimes.rename(columns={'People per Sq Km':'pop_density'}, inplace=True)\n",
    "df_lsoa_crimes.pop_density.idxmax()"
   ]
  },
  {
   "cell_type": "code",
   "execution_count": 75,
   "metadata": {},
   "outputs": [
    {
     "data": {
      "text/html": [
       "<div>\n",
       "<style scoped>\n",
       "    .dataframe tbody tr th:only-of-type {\n",
       "        vertical-align: middle;\n",
       "    }\n",
       "\n",
       "    .dataframe tbody tr th {\n",
       "        vertical-align: top;\n",
       "    }\n",
       "\n",
       "    .dataframe thead th {\n",
       "        text-align: right;\n",
       "    }\n",
       "</style>\n",
       "<table border=\"1\" class=\"dataframe\">\n",
       "  <thead>\n",
       "    <tr style=\"text-align: right;\">\n",
       "      <th></th>\n",
       "      <th>LSOA code</th>\n",
       "      <th>Month</th>\n",
       "      <th>LSOA name</th>\n",
       "      <th>Mid-2017 population</th>\n",
       "      <th>Area Sq Km</th>\n",
       "      <th>pop_density</th>\n",
       "      <th>Urban</th>\n",
       "      <th>crime_rate</th>\n",
       "    </tr>\n",
       "  </thead>\n",
       "  <tbody>\n",
       "    <tr>\n",
       "      <th>31945</th>\n",
       "      <td>E01032773</td>\n",
       "      <td>128</td>\n",
       "      <td>Tower Hamlets 032D</td>\n",
       "      <td>3347</td>\n",
       "      <td>0.03</td>\n",
       "      <td>99024</td>\n",
       "      <td>1</td>\n",
       "      <td>0.038243</td>\n",
       "    </tr>\n",
       "  </tbody>\n",
       "</table>\n",
       "</div>"
      ],
      "text/plain": [
       "       LSOA code  Month           LSOA name  Mid-2017 population  Area Sq Km  \\\n",
       "31945  E01032773    128  Tower Hamlets 032D                 3347        0.03   \n",
       "\n",
       "       pop_density   Urban   crime_rate  \n",
       "31945        99024        1    0.038243  "
      ]
     },
     "execution_count": 75,
     "metadata": {},
     "output_type": "execute_result"
    }
   ],
   "source": [
    "df_lsoa_crimes.iloc[[31945]]"
   ]
  },
  {
   "cell_type": "code",
   "execution_count": 59,
   "metadata": {},
   "outputs": [
    {
     "data": {
      "text/plain": [
       "array([[<matplotlib.axes._subplots.AxesSubplot object at 0x7825f82ffb70>]],\n",
       "      dtype=object)"
      ]
     },
     "execution_count": 59,
     "metadata": {},
     "output_type": "execute_result"
    },
    {
     "data": {
      "image/png": "[encoded data removed]",
      "text/plain": [
       "<Figure size 432x288 with 1 Axes>"
      ]
     },
     "metadata": {
      "needs_background": "light"
     },
     "output_type": "display_data"
    }
   ],
   "source": [
    "df_lsoa_crimes.hist(column='crime_rate', bins=100)\n"
   ]
  },
  {
   "cell_type": "code",
   "execution_count": null,
   "metadata": {},
   "outputs": [],
   "source": [
    "dat = df_crimes.groupby('Month').count()['Crime ID']"
   ]
  },
  {
   "cell_type": "code",
   "execution_count": null,
   "metadata": {},
   "outputs": [],
   "source": [
    "dat.plot()"
   ]
  },
  {
   "cell_type": "markdown",
   "metadata": {},
   "source": [
    "# Crime outcomes data"
   ]
  },
  {
   "cell_type": "code",
   "execution_count": null,
   "metadata": {},
   "outputs": [],
   "source": [
    "df_crimes.head()"
   ]
  },
  {
   "cell_type": "code",
   "execution_count": null,
   "metadata": {},
   "outputs": [],
   "source": [
    "df_crimes.groupby('Outcome type').count().sort_values('Month', ascending=False)['Month']"
   ]
  },
  {
   "cell_type": "markdown",
   "metadata": {},
   "source": [
    "### Plotting example with Altair"
   ]
  },
  {
   "cell_type": "code",
   "execution_count": null,
   "metadata": {},
   "outputs": [],
   "source": [
    "alt.Chart(df_crimes[:4000]).mark_point().encode(\n",
    "    x='LSOA name',\n",
    "    y='Outcome type'\n",
    ")"
   ]
  },
  {
   "cell_type": "markdown",
   "metadata": {},
   "source": [
    "# Stop and s"
   ]
  },
  {
   "cell_type": "code",
   "execution_count": null,
   "metadata": {},
   "outputs": [],
   "source": [
    "df_stop_search.head()"
   ]
  },
  {
   "cell_type": "markdown",
   "metadata": {},
   "source": [
    "# Street crimes data"
   ]
  },
  {
   "cell_type": "code",
   "execution_count": null,
   "metadata": {},
   "outputs": [],
   "source": [
    "df_street.tail()"
   ]
  },
  {
   "cell_type": "markdown",
   "metadata": {},
   "source": [
    "# Querying the API for the same data"
   ]
  },
  {
   "cell_type": "code",
   "execution_count": null,
   "metadata": {},
   "outputs": [],
   "source": [
    "api = PoliceAPI()\n",
    "api.get_forces()"
   ]
  },
  {
   "cell_type": "code",
   "execution_count": null,
   "metadata": {},
   "outputs": [],
   "source": []
  }
 ],
 "metadata": {
  "kernelspec": {
   "display_name": "Python 3",
   "language": "python",
   "name": "python3"
  },
  "language_info": {
   "codemirror_mode": {
    "name": "ipython",
    "version": 3
   },
   "file_extension": ".py",
   "mimetype": "text/x-python",
   "name": "python",
   "nbconvert_exporter": "python",
   "pygments_lexer": "ipython3",
   "version": "3.7.2"
  }
 },
 "nbformat": 4,
 "nbformat_minor": 2
}
